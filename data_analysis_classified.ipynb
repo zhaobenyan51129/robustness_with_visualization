{
 "cells": [
  {
   "cell_type": "markdown",
   "metadata": {},
   "source": [
    "# 从准确率>0.6的类别中，准确率相同的类别各选一类\n",
    "最终选出index_list =  ['110', '174', '230', '241', '249', '254', '369', '408', '423', '460', '492', '534', '552', '723', '725', '733', '741', '751', '848', '948']"
   ]
  },
  {
   "cell_type": "code",
   "execution_count": null,
   "metadata": {},
   "outputs": [],
   "source": [
    "import numpy as np\n",
    "import seaborn as sns\n",
    "import matplotlib.pyplot as plt\n",
    "import json\n",
    "import os\n",
    "\n",
    "save_path = './data_stage2/class_acc_vit_b_16.json'\n",
    "# save_path = './data_stage3/class_acc_vgg16.json'\n",
    "acc = json.load(open(save_path))\n",
    "\n",
    "# 提取键和值\n",
    "values = list(acc.values())\n",
    "\n",
    "# 创建图形并设置大小\n",
    "plt.figure(figsize=(10, 4))\n",
    "\n",
    "# 绘制柱状图\n",
    "plt.bar(range(len(values)), values, color='lightblue', width=1)\n",
    "plt.title('Accuracy for each category')\n",
    "plt.ylabel('Accuracy')\n",
    "plt.ylim(0, 1.05)  # 设置y轴范围以更好地显示差异\n",
    "plt.xticks([])  # 隐藏x轴\n",
    "# plt.grid(axis='y', linestyle='--', linewidth=0.5)  # 仅显示y轴的网格线\n",
    "\n",
    "# 显示图形\n",
    "plt.show()"
   ]
  },
  {
   "cell_type": "code",
   "execution_count": null,
   "metadata": {},
   "outputs": [],
   "source": [
    "min(list(acc.values()))"
   ]
  },
  {
   "cell_type": "code",
   "execution_count": null,
   "metadata": {},
   "outputs": [],
   "source": [
    "import random\n",
    "\n",
    "# 过滤出值大于 0.6 的唯一值\n",
    "unique_acc_values = {v for v in acc.values() if v >= 0}\n",
    "\n",
    "# 根据唯一值分组\n",
    "acc_groups = {value: [] for value in unique_acc_values}\n",
    "for category, accuracy in acc.items():\n",
    "    if accuracy >= 0:\n",
    "        acc_groups[accuracy].append(category)\n",
    "\n",
    "# 从每个分组中随机抽取一个类别\n",
    "selected_categories = {random.choice(categories): accuracy for accuracy, categories in acc_groups.items()}\n",
    "\n",
    "print(selected_categories)\n",
    "print(len(selected_categories))\n"
   ]
  },
  {
   "cell_type": "code",
   "execution_count": null,
   "metadata": {},
   "outputs": [],
   "source": [
    "acc"
   ]
  },
  {
   "cell_type": "code",
   "execution_count": null,
   "metadata": {},
   "outputs": [],
   "source": [
    "# 输出selected_categories中每个类别的label号\n",
    "imagenet_class_index_path='data/imagenet_class_index.json'\n",
    "imagenet_class_index = json.load(open(imagenet_class_index_path))\n",
    "lndexs = []\n",
    "index2acc = {}\n",
    "for id, (code, name) in imagenet_class_index.items():\n",
    "    if code in selected_categories:\n",
    "        lndexs.append(id)\n",
    "        index2acc[id] = selected_categories[code]\n",
    "# print(len(lndexs))\n",
    "# 将index2acc按照值排序\n",
    "index2acc = sorted(index2acc.items(), key=lambda x: x[1])\n",
    "print(index2acc)"
   ]
  },
  {
   "cell_type": "code",
   "execution_count": null,
   "metadata": {},
   "outputs": [],
   "source": [
    "def select_class(ranks, save_path, imagenet_class_index_path='data/imagenet_class_index.json', chinese_class_index_path = 'data/chinese_class_index.json'):\n",
    "    ''' 筛选出指定排名的类别\n",
    "    \n",
    "    Args:\n",
    "    - ranks: list, 指定的排名\n",
    "    - class_index_dict: dict, 类别索引\n",
    "    - chinese_class_index_dict: dict, 中文类别索引\n",
    "    - acc: dict, 所有类别准确率\n",
    "    '''\n",
    "    with open(imagenet_class_index_path) as f:\n",
    "        class_index_dict = json.load(f)\n",
    "\n",
    "    with open(chinese_class_index_path) as f:\n",
    "        chinese_class_index_dict = json.load(f)\n",
    "    \n",
    "    acc = json.load(open(save_path))\n",
    "    \n",
    "    sorted_acc = sorted(acc.items(), key=lambda x: x[1], reverse=True)\n",
    "    selected_items = {k: v for i, (k, v) in enumerate(sorted_acc) if i+1 in ranks}\n",
    "    result = {}\n",
    "    for rank, (class_code, accuracy) in zip(ranks, selected_items.items()):\n",
    "        for id, (code, name) in class_index_dict.items():\n",
    "            if code == class_code:\n",
    "                chinese_name = chinese_class_index_dict[str(id)]\n",
    "                corect_num = int(accuracy * 50)\n",
    "                result[id] = [class_code, name, chinese_name, accuracy, corect_num, rank]\n",
    "                break\n",
    "    return result"
   ]
  },
  {
   "cell_type": "markdown",
   "metadata": {},
   "source": [
    "# 对选出来的类别进行处理"
   ]
  },
  {
   "cell_type": "code",
   "execution_count": null,
   "metadata": {},
   "outputs": [],
   "source": [
    "import numpy as np\n",
    "import json\n",
    "import pandas as pd\n",
    "import os\n",
    "\n",
    "acc_path = './data_stage2/class_acc_vit_b_16.json'\n",
    "imagenet_class_index_path='data/imagenet_class_index.json'\n",
    "chinese_class_index_path = 'data/chinese_class_index.json'\n",
    "\n",
    "with open(imagenet_class_index_path) as f:\n",
    "    class_index_dict = json.load(f)\n",
    "\n",
    "with open(chinese_class_index_path) as f:\n",
    "    chinese_class_index_dict = json.load(f)\n",
    "    \n",
    "with open(acc_path) as f:\n",
    "    acc = json.load(f)\n",
    "\n",
    "rank_list = ['110', '174', '230', '241', '249', '254', '369', '408', '423', '460', '492', '534', '552', '723', '725', '733', '741', '751', '848', '948']"
   ]
  },
  {
   "cell_type": "code",
   "execution_count": null,
   "metadata": {},
   "outputs": [],
   "source": [
    "# 计算每个类别的初始loss\n",
    "import torch\n",
    "import torch.nn as nn\n",
    "from torch.utils.data import DataLoader\n",
    "from models.load_model import load_model\n",
    "from data_preprocessor.load_images import CustomDataset\n",
    "\n",
    "model_str = 'vit_b_16'\n",
    "load_model(model_str)\n",
    "model = load_model(model_str)\n",
    "if isinstance(model, nn.DataParallel):\n",
    "    model = model.module\n",
    "model.eval()\n",
    "\n",
    "loss_dict = {}\n",
    "data_root = 'data_stage3/images_classified'\n",
    "for index in rank_list:\n",
    "    dataset_file = f'{data_root}/{index}.pth'\n",
    "    dataset = CustomDataset(dataset_file)\n",
    "    dataloader = DataLoader(dataset, batch_size=50, shuffle=False)\n",
    "    criterion = nn.CrossEntropyLoss()\n",
    "    loss = 0\n",
    "    for i, (inputs, labels) in enumerate(dataloader):\n",
    "        outputs = model(inputs)\n",
    "        loss += criterion(outputs, labels).item()\n",
    "    loss_dict[index] = loss / len(dataloader)\n",
    "print(loss_dict)"
   ]
  },
  {
   "cell_type": "code",
   "execution_count": null,
   "metadata": {},
   "outputs": [],
   "source": [
    "# 将id_list中的类别的id、准确率、按照准确率的排名、中文名、英文名、loss输出到DataFrame\n",
    "data = []\n",
    "\n",
    "for class_id in rank_list:\n",
    "    if class_id in class_index_dict:\n",
    "        imagenet_id, english_name = class_index_dict[class_id]\n",
    "        accuracy = acc.get(imagenet_id, 0.0)\n",
    "        loss = round(loss_dict[class_id], 4)\n",
    "        data.append([class_id, accuracy, english_name, loss])\n",
    "\n",
    "# 创建 DataFrame\n",
    "df = pd.DataFrame(data, columns=['Label', 'Accuracy', 'Name', 'Loss'])\n",
    "\n",
    "# 按照准确率排序\n",
    "df = df.sort_values(by='Accuracy', ascending=False).reset_index(drop=True)\n",
    "\n",
    "# 添加排名列\n",
    "\n",
    "df['Number'] = (df['Accuracy'] * 50).astype(int)\n",
    "df['Rank'] = df.index + 1\n",
    "\n",
    "df"
   ]
  },
  {
   "cell_type": "code",
   "execution_count": null,
   "metadata": {},
   "outputs": [],
   "source": [
    "df.to_excel('data_stage3/vit_b_16_top_20.xlsx', index=False)"
   ]
  },
  {
   "cell_type": "markdown",
   "metadata": {},
   "source": [
    "# 对单步法结果文件进行处理"
   ]
  },
  {
   "cell_type": "code",
   "execution_count": null,
   "metadata": {},
   "outputs": [],
   "source": [
    "import numpy as np\n",
    "import json\n",
    "import pandas as pd\n",
    "import os"
   ]
  },
  {
   "cell_type": "code",
   "execution_count": null,
   "metadata": {},
   "outputs": [],
   "source": [
    "data_rank = pd.read_excel('data_stage3/vit_b_16_top_20.xlsx')\n",
    "data_rank.head()"
   ]
  },
  {
   "cell_type": "code",
   "execution_count": null,
   "metadata": {},
   "outputs": [],
   "source": [
    "index_list = data_rank['Label'].tolist()\n",
    "print(index_list)"
   ]
  },
  {
   "cell_type": "markdown",
   "metadata": {},
   "source": [
    "## 结果文件处理"
   ]
  },
  {
   "cell_type": "code",
   "execution_count": null,
   "metadata": {},
   "outputs": [],
   "source": [
    "import pandas as pd\n",
    "\n",
    "# data = pd.read_excel('./data_stage3/classified_single_attackall_1108/classified_single_attack_1108.xlsx')\n",
    "data = pd.read_excel('./data_stage3/classified_single_attacktest_1109/classified_single_attack_1109.xlsx')\n",
    "data.head()"
   ]
  },
  {
   "cell_type": "code",
   "execution_count": null,
   "metadata": {},
   "outputs": [],
   "source": [
    "import ast\n",
    "import numpy as np\n",
    "\n",
    "def mean_of_lists(series):\n",
    "    # 将每个元素转换为 NumPy 数组，然后计算均值\n",
    "    arrays = np.array(series.tolist(), dtype=float)\n",
    "    return np.mean(arrays, axis=0).tolist()\n",
    "\n",
    "def calculate_eta_reverse(row):\n",
    "    if row['mask_mode'] in ('cam_lowr', 'lowr', 'seed_randomr_lowr', 'channel_lowr','lrp_lowr'):\n",
    "        return 1 - row['parameter']\n",
    "    else:\n",
    "        return row['parameter']\n",
    "\n",
    "def l1_norm(series):\n",
    "    return series.abs().sum()\n",
    "\n",
    "def l2_norm(series):\n",
    "    return np.sqrt((series ** 2).sum())\n",
    "\n",
    "def merge_batch_onestep(data): \n",
    "    '''将多个batch的数据合并''' \n",
    "    data['parameter'] = data['parameter'].fillna(-1)\n",
    "    data['attack_ratio_per_channel'] = data['attack_ratio_per_channel'].apply(ast.literal_eval)\n",
    "    li = ['index', 'model', 'algo', 'mask_mode', 'parameter', 'eta']\n",
    "    data_grouped = data.groupby(li).agg({\n",
    "        'pixel_attacked': lambda x: int(x.mean()),\n",
    "        'attack_ratio_per_channel': mean_of_lists,\n",
    "        'l1_norm': l1_norm,\n",
    "        'l2_norm': l2_norm,\n",
    "        'original_loss'\t: 'mean',\n",
    "        'attack_loss': 'mean',\n",
    "        'pred_loss': 'mean',\n",
    "        'success_rate': lambda x: round(x.mean(), 4),\n",
    "        'run_time': 'sum',\n",
    "    }).reset_index()\n",
    "    data_grouped[['R', 'G', 'B']] = pd.DataFrame(data_grouped['attack_ratio_per_channel'].tolist(), index=data_grouped.index)\n",
    "    data_grouped['parameter0'] = data_grouped.apply(calculate_eta_reverse, axis=1)\n",
    "    data_grouped.drop('attack_ratio_per_channel', axis=1, inplace=True)\n",
    "    \n",
    "    data_rank = pd.read_excel('data_stage3/vit_b_16_top_20.xlsx')\n",
    "    data_all = pd.merge(data_grouped, data_rank, left_on='index', right_on='Label', how='left')\n",
    "    data_all.drop('Label', axis=1, inplace=True)\n",
    "\n",
    "    return data_all"
   ]
  },
  {
   "cell_type": "code",
   "execution_count": null,
   "metadata": {},
   "outputs": [],
   "source": [
    "data = merge_batch_onestep(data)"
   ]
  },
  {
   "cell_type": "code",
   "execution_count": null,
   "metadata": {},
   "outputs": [],
   "source": [
    "data.head()"
   ]
  },
  {
   "cell_type": "markdown",
   "metadata": {},
   "source": [
    "## 画图"
   ]
  },
  {
   "cell_type": "code",
   "execution_count": null,
   "metadata": {},
   "outputs": [],
   "source": [
    "from tools.show_result_class import plot_success_rate_vs_r_single"
   ]
  },
  {
   "cell_type": "code",
   "execution_count": null,
   "metadata": {},
   "outputs": [],
   "source": [
    "data1 = data[~data['mask_mode'].isin(['all', 'positive', 'negative'])]"
   ]
  },
  {
   "cell_type": "code",
   "execution_count": null,
   "metadata": {},
   "outputs": [],
   "source": [
    "plot_success_rate_vs_r_single(data1, 0.01, 'fgsm', 'parameter', ['attack_loss'],mask_mode_list = ['topr', 'channel_topr', 'cam_topr','seed_randomr', 'seed_randomr_lowr', 'cam_lowr', 'channel_lowr', 'lowr'], id_list = [552, 751, 725])"
   ]
  },
  {
   "cell_type": "markdown",
   "metadata": {},
   "source": [
    "# 多步法结果处理"
   ]
  },
  {
   "cell_type": "code",
   "execution_count": null,
   "metadata": {},
   "outputs": [],
   "source": [
    "import pandas as pd\n",
    "data = pd.read_excel('./data_stage3/classified_multi_attackall_1109/classified_multi_attack_1109.xlsx')"
   ]
  },
  {
   "cell_type": "code",
   "execution_count": null,
   "metadata": {},
   "outputs": [],
   "source": [
    "data.head()"
   ]
  },
  {
   "cell_type": "code",
   "execution_count": null,
   "metadata": {},
   "outputs": [],
   "source": [
    "import ast\n",
    "import numpy as np\n",
    "\n",
    "def l1_norm(series):\n",
    "    return series.abs().sum()\n",
    "\n",
    "def l2_norm(series):\n",
    "    return np.sqrt((series ** 2).sum())\n",
    "\n",
    "def merge_batch_onestep(data): \n",
    "    '''将多个batch的数据合并''' \n",
    "    data['parameter'] = data['parameter'].fillna(-1)\n",
    "    li = ['index','model', 'algo', 'alpha', 'mask_mode', 'step', 'parameter', 'eta']\n",
    "    data_grouped = data.groupby(li).agg({\n",
    "        'l1_norm': l1_norm,\n",
    "        'l2_norm': l2_norm,\n",
    "        'loss': 'mean',\n",
    "        'pred_loss': 'mean',\n",
    "        'success_rate': lambda x: round(x.mean(), 4),\n",
    "        'run_time': 'sum',\n",
    "    }).reset_index()\n",
    "    data_grouped = data_grouped.rename(columns={'loss': 'attack_loss'})\n",
    "    \n",
    "    \n",
    "    data_rank = pd.read_excel('data_stage3/vit_b_16_top_20.xlsx')\n",
    "    data_all = pd.merge(data_grouped, data_rank, left_on='index', right_on='Label', how='left')\n",
    "    # 将attack_loss计算为attack_loss/Number\n",
    "    data_all['attack_loss'] = data_all['attack_loss'] / data_all['Number']\n",
    "    data_all.drop('Label', axis=1, inplace=True)\n",
    "    \n",
    "    return data_all"
   ]
  },
  {
   "cell_type": "code",
   "execution_count": null,
   "metadata": {},
   "outputs": [],
   "source": [
    "data = merge_batch_onestep(data)\n",
    "data.head()"
   ]
  },
  {
   "cell_type": "markdown",
   "metadata": {},
   "source": [
    "## 画出不同index，成功率和loss随step的变化\n"
   ]
  },
  {
   "cell_type": "code",
   "execution_count": null,
   "metadata": {},
   "outputs": [],
   "source": [
    "from tools.show_result_class import plot_success_rate_vs_step"
   ]
  },
  {
   "cell_type": "code",
   "execution_count": null,
   "metadata": {},
   "outputs": [],
   "source": [
    "# mask_mode_list = ['topr', 'seed_randomr', 'lowr']\n",
    "mask_mode_list = ['topr', 'channel_topr', 'cam_topr','seed_randomr', 'seed_randomr_lowr', 'cam_lowr','channel_lowr', 'lowr', ]\n",
    "plot_success_rate_vs_step(data, 0.2, 'step', ['success_rate'], mask_mode_list = mask_mode_list)"
   ]
  },
  {
   "cell_type": "markdown",
   "metadata": {},
   "source": [
    "## 画出不同index，成功率的大小"
   ]
  },
  {
   "cell_type": "code",
   "execution_count": null,
   "metadata": {},
   "outputs": [],
   "source": [
    "from tools.show_result_class import plot_accuracy_success_rate_and_loss"
   ]
  },
  {
   "cell_type": "code",
   "execution_count": null,
   "metadata": {},
   "outputs": [],
   "source": [
    "# 只看step最大的\n",
    "data1 = data[(data['step'] == data['step'].max())]\n",
    "data1.head()"
   ]
  },
  {
   "cell_type": "code",
   "execution_count": null,
   "metadata": {},
   "outputs": [],
   "source": [
    "plot_accuracy_success_rate_and_loss(data1, output_path='./data_stage3/classified_multi_attackall_1109', save_name='acc_success_rate')"
   ]
  },
  {
   "cell_type": "code",
   "execution_count": null,
   "metadata": {},
   "outputs": [],
   "source": []
  }
 ],
 "metadata": {
  "kernelspec": {
   "display_name": "Python 3 (ipykernel)",
   "language": "python",
   "name": "python3"
  },
  "language_info": {
   "codemirror_mode": {
    "name": "ipython",
    "version": 3
   },
   "file_extension": ".py",
   "mimetype": "text/x-python",
   "name": "python",
   "nbconvert_exporter": "python",
   "pygments_lexer": "ipython3",
   "version": "3.12.2"
  }
 },
 "nbformat": 4,
 "nbformat_minor": 2
}
